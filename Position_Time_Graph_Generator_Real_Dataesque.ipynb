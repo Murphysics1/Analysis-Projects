{
  "nbformat": 4,
  "nbformat_minor": 0,
  "metadata": {
    "colab": {
      "name": "Position-Time Graph Generator_Real Dataesque.ipynb",
      "provenance": [],
      "collapsed_sections": [
        "K-8uGZf3-0g-",
        "VhDG-wedLTxg",
        "UiDVEfFaFbyI",
        "pysl8VgkIkLi",
        "Z7FPnW7278hh"
      ]
    },
    "kernelspec": {
      "name": "python3",
      "display_name": "Python 3"
    },
    "language_info": {
      "name": "python"
    }
  },
  "cells": [
    {
      "cell_type": "markdown",
      "metadata": {
        "id": "K-8uGZf3-0g-"
      },
      "source": [
        "# *IMPORTS*\n",
        "Run this cell first"
      ]
    },
    {
      "cell_type": "code",
      "metadata": {
        "id": "elg6A5As7NKF"
      },
      "source": [
        "import matplotlib.pyplot as plt\n",
        "import numpy as np\n",
        "from random import randrange\n",
        "from google.colab import files"
      ],
      "execution_count": null,
      "outputs": []
    },
    {
      "cell_type": "markdown",
      "metadata": {
        "id": "2Uu-MNJUFfBv"
      },
      "source": [
        "# **Edit the Parameters**\n",
        "\n",
        "* Information about the plot\n",
        "* Information about the motion "
      ]
    },
    {
      "cell_type": "code",
      "metadata": {
        "id": "JvHxa-wVFMZx"
      },
      "source": [
        "file_name = 'Acceleration Motion Example 1'\n",
        "plot_title = 'Accelerated Motion'\n",
        "plot_size = 1.2"
      ],
      "execution_count": null,
      "outputs": []
    },
    {
      "cell_type": "code",
      "metadata": {
        "id": "hwNAAUHs7Q2j"
      },
      "source": [
        "acceleration = 2\n",
        "initial_velocity = 5\n",
        "initial_position = 0\n",
        "\n",
        "data_points = 20\n",
        "time = 15\n",
        "error = 0.8"
      ],
      "execution_count": null,
      "outputs": []
    },
    {
      "cell_type": "markdown",
      "metadata": {
        "id": "slnrOT387zjN"
      },
      "source": [
        "# **Position - Time Graph**"
      ]
    },
    {
      "cell_type": "markdown",
      "metadata": {
        "id": "UiDVEfFaFbyI"
      },
      "source": [
        "## Create the Data\n"
      ]
    },
    {
      "cell_type": "code",
      "metadata": {
        "id": "qjM6tINIEMKX"
      },
      "source": [
        "samples_sec = data_points/time\n",
        "\n",
        "def pos(t):\n",
        "  x = 0.5*acceleration*t*t + initial_velocity*t+initial_position+error*randrange(-10,10,1) \n",
        "  return x\n",
        "\n",
        "time_data = np.array([i/samples_sec for i in range(data_points)])\n",
        "position_data = np.array(list(map(pos, time_data)))     "
      ],
      "execution_count": null,
      "outputs": []
    },
    {
      "cell_type": "markdown",
      "metadata": {
        "id": "pysl8VgkIkLi"
      },
      "source": [
        "## Make the Graph"
      ]
    },
    {
      "cell_type": "code",
      "metadata": {
        "colab": {
          "base_uri": "https://localhost:8080/",
          "height": 343
        },
        "id": "psb3V3s5IgKi",
        "outputId": "8ca159de-853a-4397-f720-64b4e86cb6ca"
      },
      "source": [
        "plt.figure(figsize=(6*plot_size,4*plot_size))\n",
        "plt.scatter(time_data,position_data)\n",
        "plt.title(plot_title,fontsize=12*plot_size)\n",
        "plt.xlabel(\"Time [s]\",fontsize=10*plot_size)\n",
        "plt.ylabel(\"Position [m]\",fontsize=10*plot_size)\n",
        "plt.grid()\n",
        "plt.savefig(f'{file_name}.png')\n",
        "plt.show()"
      ],
      "execution_count": null,
      "outputs": [
        {
          "output_type": "display_data",
          "data": {
            "image/png": "[encoded data removed]",
            "text/plain": [
              "<Figure size 518.4x345.6 with 1 Axes>"
            ]
          },
          "metadata": {
            "needs_background": "light"
          }
        }
      ]
    },
    {
      "cell_type": "markdown",
      "metadata": {
        "id": "Z7FPnW7278hh"
      },
      "source": [
        "### Download the Plot"
      ]
    },
    {
      "cell_type": "code",
      "metadata": {
        "colab": {
          "base_uri": "https://localhost:8080/"
        },
        "id": "b9B4Tm-U9wN_",
        "outputId": "268c0aaa-7a8e-479f-bcdd-68172031d017"
      },
      "source": [
        "#Download the Position Time Graph\n",
        "files.download(f'{file_name}.png')"
      ],
      "execution_count": null,
      "outputs": [
        {
          "output_type": "display_data",
          "data": {
            "application/javascript": [
              "\n",
              "    async function download(id, filename, size) {\n",
              "      if (!google.colab.kernel.accessAllowed) {\n",
              "        return;\n",
              "      }\n",
              "      const div = document.createElement('div');\n",
              "      const label = document.createElement('label');\n",
              "      label.textContent = `Downloading \"${filename}\": `;\n",
              "      div.appendChild(label);\n",
              "      const progress = document.createElement('progress');\n",
              "      progress.max = size;\n",
              "      div.appendChild(progress);\n",
              "      document.body.appendChild(div);\n",
              "\n",
              "      const buffers = [];\n",
              "      let downloaded = 0;\n",
              "\n",
              "      const channel = await google.colab.kernel.comms.open(id);\n",
              "      // Send a message to notify the kernel that we're ready.\n",
              "      channel.send({})\n",
              "\n",
              "      for await (const message of channel.messages) {\n",
              "        // Send a message to notify the kernel that we're ready.\n",
              "        channel.send({})\n",
              "        if (message.buffers) {\n",
              "          for (const buffer of message.buffers) {\n",
              "            buffers.push(buffer);\n",
              "            downloaded += buffer.byteLength;\n",
              "            progress.value = downloaded;\n",
              "          }\n",
              "        }\n",
              "      }\n",
              "      const blob = new Blob(buffers, {type: 'application/binary'});\n",
              "      const a = document.createElement('a');\n",
              "      a.href = window.URL.createObjectURL(blob);\n",
              "      a.download = filename;\n",
              "      div.appendChild(a);\n",
              "      a.click();\n",
              "      div.remove();\n",
              "    }\n",
              "  "
            ],
            "text/plain": [
              "<IPython.core.display.Javascript object>"
            ]
          },
          "metadata": {}
        },
        {
          "output_type": "display_data",
          "data": {
            "application/javascript": [
              "download(\"download_2d0e1e04-489f-43c4-9afb-6ee0944c91e9\", \"Acceleration Motion Example 1.png\", 12216)"
            ],
            "text/plain": [
              "<IPython.core.display.Javascript object>"
            ]
          },
          "metadata": {}
        }
      ]
    },
    {
      "cell_type": "markdown",
      "metadata": {
        "id": "zKYfABW3U6B5"
      },
      "source": [
        "# **Velocity-Time Graph**"
      ]
    },
    {
      "cell_type": "code",
      "metadata": {
        "id": "DPphGbRFU-A4"
      },
      "source": [
        ""
      ],
      "execution_count": null,
      "outputs": []
    }
  ]
}